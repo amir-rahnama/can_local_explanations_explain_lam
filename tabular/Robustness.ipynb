{
 "cells": [
  {
   "cell_type": "code",
   "execution_count": 1,
   "id": "aa696f44",
   "metadata": {},
   "outputs": [],
   "source": [
    "import pickle\n",
    "import pandas as pd\n",
    "import numpy as np\n",
    "import seaborn as sns\n",
    "import matplotlib.pyplot as plt\n",
    "from sklearn.linear_model import LinearRegression\n",
    "BASE_PATH ='/home/amirh/code/local_explanations_whitebox/tabular/data'\n",
    "import joblib\n",
    "from tabulate import tabulate\n",
    "from scipy.stats import pearsonr, spearmanr\n",
    "from sklearn.linear_model import (\n",
    "    LinearRegression,\n",
    "    TheilSenRegressor,\n",
    "    RANSACRegressor,\n",
    "    HuberRegressor,\n",
    ")\n",
    "from sklearn.preprocessing import LabelEncoder, OrdinalEncoder, StandardScaler, RobustScaler, MinMaxScaler,OneHotEncoder\n",
    "from sklearn.compose import ColumnTransformer"
   ]
  },
  {
   "cell_type": "code",
   "execution_count": 2,
   "id": "e6974126",
   "metadata": {},
   "outputs": [],
   "source": [
    "def find_one_hot_vecs(cat_info, all_feat, all_cat_features):\n",
    "    mapping = {}\n",
    "    for i in range(len(cat_info)):\n",
    "        cat_feat_idx = all_cat_features[i]\n",
    "        val_cat_feat = np.array(cat_info[i]).astype(int)\n",
    "        \n",
    "        idx_found = []\n",
    "        \n",
    "        for c_f_i in val_cat_feat:\n",
    "            criteria = np.argwhere('cat__x{}_{}.0'.format(int(cat_feat_idx), int(c_f_i)) == all_feat)[0][0]\n",
    "            idx_found.append(criteria)\n",
    "        idx_found = np.array(idx_found)\n",
    "        mapping[cat_feat_idx] = idx_found\n",
    "\n",
    "    return mapping"
   ]
  },
  {
   "cell_type": "code",
   "execution_count": 7,
   "id": "26015499",
   "metadata": {},
   "outputs": [],
   "source": [
    "robust_datasets = ['breast_cancer', 'pima_indians', 'banknote', 'iris', 'haberman', 'spambase', 'heart_disease', 'churn', 'hattrick', 'hr', 'audit', \n",
    "                                   'loan', 'seismic', 'thera', 'titanic', 'donor', 'adult', 'insurance', 'banking', 'attrition' ]\n",
    "robust_dataset_names = ['Breast Cancer', 'Pima Indians', 'Banknote', 'Iris', 'Haberman', 'Spambase', 'Heart Disease', 'Churn', 'Hattrick', 'Hr', 'Audit', \n",
    "                                   'Loan', 'Seismic', 'Thera', 'Titanic', 'Donor', 'Adult', 'Insurance', 'Banking', 'Attrition' ]\n",
    "e_names = ['lime', 'shap', 'lpi']\n",
    "e_names_alt = ['LIME', 'SHAP', 'LPI']"
   ]
  },
  {
   "cell_type": "code",
   "execution_count": 339,
   "id": "ae17e6b3",
   "metadata": {},
   "outputs": [],
   "source": [
    "data_key = 'adult'\n",
    "folder_name = 'exp_v10'\n",
    "preproc = 'standard'\n",
    "model = 'lreg'\n",
    "exp_result = np.load('{}/{}/{}/{}/{}_exp_{}_{}.npy'.format(BASE_PATH, data_key, preproc, folder_name,\n",
    "                                                                  'shap', 'lreg', preproc), allow_pickle=True)\n",
    "\n",
    "model_object = joblib.load('{}/{}/{}/{}_v1.joblib'.format(BASE_PATH, data_key, preproc, model))"
   ]
  },
  {
   "cell_type": "code",
   "execution_count": 229,
   "id": "eed996da",
   "metadata": {},
   "outputs": [],
   "source": [
    "data_info = pickle.load(open(\"{}/data_info_v2.p\".format(BASE_PATH), \"rb\"))"
   ]
  },
  {
   "cell_type": "code",
   "execution_count": 231,
   "id": "cd10d9b8",
   "metadata": {},
   "outputs": [],
   "source": [
    "all_cat_features = data_info[data_key]['cat_feature_idx']"
   ]
  },
  {
   "cell_type": "code",
   "execution_count": 315,
   "id": "d13ec19f",
   "metadata": {},
   "outputs": [],
   "source": [
    "x_test = np.load('{}/{}/{}/x_test.npy'.format(BASE_PATH, 'adult', 'standard'),  allow_pickle=True)\n",
    "\n",
    "if len(all_cat_features) > 0: \n",
    "    column_transform = ColumnTransformer([(\"cat\", enc, all_cat_features)], remainder='passthrough')\n",
    "\n",
    "    x_test = column_transform.fit_transform(x_test)\n",
    "    all_feat = column_transform.get_feature_names_out()\n",
    "    cat_info = column_transform.transformers_[0][1].categories_\n",
    "    mapping = find_one_hot_vecs(cat_info, all_feat, all_cat_features)"
   ]
  },
  {
   "cell_type": "code",
   "execution_count": 316,
   "id": "70974436",
   "metadata": {},
   "outputs": [],
   "source": [
    "exp_example = exp_result[0].round(4)\n",
    "explained_instance = x_test[0]\n",
    "explained_instance_copy = explained_instance.copy()"
   ]
  },
  {
   "cell_type": "code",
   "execution_count": 350,
   "id": "fcfd6ba3",
   "metadata": {},
   "outputs": [
    {
     "data": {
      "text/plain": [
       "{3: array([ 0,  1,  2,  3,  4,  5,  6,  7,  8,  9, 10, 11, 12, 13, 14, 15]),\n",
       " 1: array([16, 17, 18, 19, 20, 21, 22, 23, 24]),\n",
       " 5: array([25, 26, 27, 28, 29, 30, 31]),\n",
       " 6: array([32, 33, 34, 35, 36, 37, 38, 39, 40, 41, 42, 43, 44, 45, 46]),\n",
       " 7: array([47, 48, 49, 50, 51, 52]),\n",
       " 8: array([53, 54, 55, 56, 57]),\n",
       " 9: array([58, 59]),\n",
       " 13: array([ 60,  61,  62,  63,  64,  65,  66,  67,  68,  69,  70,  71,  72,\n",
       "         73,  74,  75,  76,  77,  78,  79,  80,  81,  82,  83,  84,  85,\n",
       "         86,  87,  88,  89,  90,  91,  92,  93,  94,  95,  96,  97,  98,\n",
       "         99, 100])}"
      ]
     },
     "execution_count": 350,
     "metadata": {},
     "output_type": "execute_result"
    }
   ],
   "source": [
    "mapping"
   ]
  },
  {
   "cell_type": "code",
   "execution_count": 317,
   "id": "e679fe46",
   "metadata": {},
   "outputs": [],
   "source": [
    "cutoffs = np.linspace(0.05, 0.5, 10)\n",
    "threshold = int(np.round(cutoffs[3] * exp_example.shape[0]))"
   ]
  },
  {
   "cell_type": "code",
   "execution_count": 318,
   "id": "4acec10c",
   "metadata": {},
   "outputs": [],
   "source": [
    "type_robust = 'deletion'"
   ]
  },
  {
   "cell_type": "code",
   "execution_count": 319,
   "id": "305fa097",
   "metadata": {},
   "outputs": [],
   "source": [
    "feat_selected = np.abs(exp_example).argsort()[::-1][:threshold]\n",
    "if type_robust == 'insertion':\n",
    "    #feat_selected = np.abs(exp_example).argsort()[:threshold]\n",
    "    feat_selected = np.setxor1d(np.arange(exp_example.shape[0]), feat_selected)"
   ]
  },
  {
   "cell_type": "code",
   "execution_count": 320,
   "id": "1e273df5",
   "metadata": {},
   "outputs": [],
   "source": [
    "for f_sel in feat_selected:\n",
    "    is_categorical_feat = f_sel in all_cat_features\n",
    "    if is_categorical_feat:\n",
    "        all_encoded_f = mapping[f_sel]\n",
    "        is_enabled_feature = np.argwhere(explained_instance[:, all_encoded_f].toarray().flatten() == 1)[0][0]\n",
    "        is_enabled_absolute = all_encoded_f[is_enabled_feature]\n",
    "        get_most_common = np.bincount(x_test[:, is_enabled_absolute].astype(int).toarray().flatten()).argmax()\n",
    "        explained_instance_copy[:, is_enabled_absolute] = get_most_common \n",
    "        \n",
    "    else:\n",
    "        explained_instance_copy[:, f_sel] = x_test[:, f_sel].mean()    "
   ]
  },
  {
   "cell_type": "code",
   "execution_count": 310,
   "id": "be53c314",
   "metadata": {},
   "outputs": [
    {
     "data": {
      "text/plain": [
       "array([[ 0.        ,  0.        ,  0.        ,  0.        ,  0.        ,\n",
       "         0.        ,  0.        ,  0.        ,  0.        ,  0.        ,\n",
       "         0.        ,  0.        ,  0.        ,  0.        ,  0.        ,\n",
       "         1.        ,  0.        ,  0.        ,  0.        ,  0.        ,\n",
       "         1.        ,  0.        ,  0.        ,  0.        ,  0.        ,\n",
       "         0.        ,  0.        ,  0.        ,  0.        ,  0.        ,\n",
       "         0.        ,  0.        ,  0.        ,  0.        ,  0.        ,\n",
       "         0.        ,  0.        ,  0.        ,  0.        ,  0.        ,\n",
       "         0.        ,  0.        ,  0.        ,  0.        ,  0.        ,\n",
       "         0.        ,  0.        ,  0.        ,  0.        ,  0.        ,\n",
       "         0.        ,  1.        ,  0.        ,  0.        ,  0.        ,\n",
       "         0.        ,  0.        ,  1.        ,  0.        ,  0.        ,\n",
       "         0.        ,  0.        ,  0.        ,  0.        ,  0.        ,\n",
       "         0.        ,  0.        ,  0.        ,  0.        ,  0.        ,\n",
       "         0.        ,  0.        ,  0.        ,  0.        ,  0.        ,\n",
       "         0.        ,  0.        ,  0.        ,  0.        ,  0.        ,\n",
       "         0.        ,  0.        ,  0.        ,  0.        ,  0.        ,\n",
       "         0.        ,  0.        ,  0.        ,  0.        ,  0.        ,\n",
       "         0.        ,  0.        ,  0.        ,  0.        ,  0.        ,\n",
       "         0.        ,  0.        ,  0.        ,  1.        ,  0.        ,\n",
       "         0.        , -0.84908045, -0.11993902, -0.03136003, -0.14592048,\n",
       "        -0.21665953,  0.28852962]])"
      ]
     },
     "execution_count": 310,
     "metadata": {},
     "output_type": "execute_result"
    }
   ],
   "source": [
    "explained_instance_copy.toarray()"
   ]
  },
  {
   "cell_type": "code",
   "execution_count": 312,
   "id": "ff606189",
   "metadata": {},
   "outputs": [
    {
     "data": {
      "text/plain": [
       "array([[ 0.        ,  0.        ,  0.        ,  0.        ,  0.        ,\n",
       "         0.        ,  0.        ,  0.        ,  0.        ,  0.        ,\n",
       "         0.        ,  0.        ,  0.        ,  0.        ,  0.        ,\n",
       "         1.        ,  0.        ,  0.        ,  0.        ,  0.        ,\n",
       "         1.        ,  0.        ,  0.        ,  0.        ,  0.        ,\n",
       "         1.        ,  0.        ,  0.        ,  0.        ,  0.        ,\n",
       "         0.        ,  0.        ,  0.        ,  1.        ,  0.        ,\n",
       "         0.        ,  0.        ,  0.        ,  0.        ,  0.        ,\n",
       "         0.        ,  0.        ,  0.        ,  0.        ,  0.        ,\n",
       "         0.        ,  0.        ,  0.        ,  0.        ,  0.        ,\n",
       "         0.        ,  1.        ,  0.        ,  0.        ,  0.        ,\n",
       "         0.        ,  0.        ,  1.        ,  1.        ,  0.        ,\n",
       "         0.        ,  0.        ,  0.        ,  0.        ,  0.        ,\n",
       "         0.        ,  0.        ,  0.        ,  0.        ,  0.        ,\n",
       "         0.        ,  0.        ,  0.        ,  0.        ,  0.        ,\n",
       "         0.        ,  0.        ,  0.        ,  0.        ,  0.        ,\n",
       "         0.        ,  0.        ,  0.        ,  0.        ,  0.        ,\n",
       "         0.        ,  0.        ,  0.        ,  0.        ,  0.        ,\n",
       "         0.        ,  0.        ,  0.        ,  0.        ,  0.        ,\n",
       "         0.        ,  0.        ,  0.        ,  1.        ,  0.        ,\n",
       "         0.        , -0.84908045, -0.11993902, -0.03136003, -0.14592048,\n",
       "        -0.21665953,  0.28852962]])"
      ]
     },
     "execution_count": 312,
     "metadata": {},
     "output_type": "execute_result"
    }
   ],
   "source": [
    "explained_instance.toarray()"
   ]
  },
  {
   "cell_type": "code",
   "execution_count": null,
   "id": "e7958c05",
   "metadata": {},
   "outputs": [],
   "source": []
  },
  {
   "cell_type": "code",
   "execution_count": 4,
   "id": "3689bdb7",
   "metadata": {},
   "outputs": [],
   "source": [
    "from sklearn.base import TransformerMixin\n",
    "import scipy\n",
    "class DenseTransformer(TransformerMixin):\n",
    "\n",
    "    def fit(self, X, y=None, **fit_params):\n",
    "        return self\n",
    "\n",
    "    def transform(self, X, y=None, **fit_params):\n",
    "        if type(X) == scipy.sparse.csr.csr_matrix:    \n",
    "            return X.todense()\n",
    "        else: \n",
    "            return X"
   ]
  },
  {
   "cell_type": "code",
   "execution_count": 484,
   "id": "64cdd14b",
   "metadata": {},
   "outputs": [],
   "source": [
    "robustness = pickle.load( open( \"{}/robustness_measure_v10_latest_final.p\".format(BASE_PATH), \"rb\" ) )\n"
   ]
  },
  {
   "cell_type": "code",
   "execution_count": null,
   "id": "872871cd",
   "metadata": {},
   "outputs": [],
   "source": []
  },
  {
   "cell_type": "code",
   "execution_count": 353,
   "id": "10aae8fb",
   "metadata": {},
   "outputs": [],
   "source": [
    "def get_robust(measure_name, model_name):\n",
    "    res_e = []\n",
    "    for e in ['lime', 'shap', 'lpi']:\n",
    "        res = []\n",
    "        for i in range(20):\n",
    "            res.append(np.mean(robustness[model_name][e][measure_name][i]))\n",
    "        res_e.append(res)\n",
    "    return res_e"
   ]
  },
  {
   "cell_type": "code",
   "execution_count": 354,
   "id": "34081f7e",
   "metadata": {},
   "outputs": [],
   "source": [
    "base_rri = pd.DataFrame(get_robust('rri', 'lreg'))\n",
    "base_rri = base_rri.append(pd.DataFrame(get_robust('rri', 'gbayes'))).T\n",
    "base_rri.columns = ['LIME', 'SHAP', 'LPI', 'LIME', 'SHAP', 'LPI']\n",
    "base_rri.index = robust_dataset_names"
   ]
  },
  {
   "cell_type": "code",
   "execution_count": 355,
   "id": "93eb0648",
   "metadata": {},
   "outputs": [],
   "source": [
    "base_rri = base_rri.sort_index()"
   ]
  },
  {
   "cell_type": "code",
   "execution_count": 356,
   "id": "44238594",
   "metadata": {},
   "outputs": [],
   "source": [
    "base_rri.loc['Average'] = base_rri.mean(axis=0)\n",
    "base_rri.loc['Standard Deviation'] = base_rri.std(axis=0)"
   ]
  },
  {
   "cell_type": "code",
   "execution_count": 357,
   "id": "a4283c02",
   "metadata": {},
   "outputs": [
    {
     "data": {
      "text/html": [
       "<style type=\"text/css\">\n",
       "#T_94444_row0_col0, #T_94444_row0_col1, #T_94444_row1_col1, #T_94444_row1_col2, #T_94444_row2_col2, #T_94444_row3_col2, #T_94444_row4_col0, #T_94444_row4_col1, #T_94444_row4_col2, #T_94444_row5_col2, #T_94444_row6_col2, #T_94444_row7_col0, #T_94444_row8_col0, #T_94444_row8_col1, #T_94444_row8_col2, #T_94444_row9_col1, #T_94444_row10_col2, #T_94444_row11_col0, #T_94444_row11_col1, #T_94444_row11_col2, #T_94444_row12_col1, #T_94444_row12_col2, #T_94444_row13_col0, #T_94444_row13_col1, #T_94444_row13_col2, #T_94444_row14_col1, #T_94444_row14_col2, #T_94444_row15_col2, #T_94444_row16_col0, #T_94444_row17_col2, #T_94444_row18_col1, #T_94444_row18_col2, #T_94444_row19_col2, #T_94444_row20_col2, #T_94444_row21_col2 {\n",
       "  background-color: lightgreen;\n",
       "}\n",
       "</style>\n",
       "<table id=\"T_94444_\">\n",
       "  <thead>\n",
       "    <tr>\n",
       "      <th class=\"blank level0\" >&nbsp;</th>\n",
       "      <th class=\"col_heading level0 col0\" >LIME</th>\n",
       "      <th class=\"col_heading level0 col1\" >SHAP</th>\n",
       "      <th class=\"col_heading level0 col2\" >LPI</th>\n",
       "    </tr>\n",
       "  </thead>\n",
       "  <tbody>\n",
       "    <tr>\n",
       "      <th id=\"T_94444_level0_row0\" class=\"row_heading level0 row0\" >Adult</th>\n",
       "      <td id=\"T_94444_row0_col0\" class=\"data row0 col0\" >0.060000</td>\n",
       "      <td id=\"T_94444_row0_col1\" class=\"data row0 col1\" >0.060000</td>\n",
       "      <td id=\"T_94444_row0_col2\" class=\"data row0 col2\" >0.050000</td>\n",
       "    </tr>\n",
       "    <tr>\n",
       "      <th id=\"T_94444_level0_row1\" class=\"row_heading level0 row1\" >Attrition</th>\n",
       "      <td id=\"T_94444_row1_col0\" class=\"data row1 col0\" >0.060000</td>\n",
       "      <td id=\"T_94444_row1_col1\" class=\"data row1 col1\" >0.070000</td>\n",
       "      <td id=\"T_94444_row1_col2\" class=\"data row1 col2\" >0.070000</td>\n",
       "    </tr>\n",
       "    <tr>\n",
       "      <th id=\"T_94444_level0_row2\" class=\"row_heading level0 row2\" >Audit</th>\n",
       "      <td id=\"T_94444_row2_col0\" class=\"data row2 col0\" >1.080000</td>\n",
       "      <td id=\"T_94444_row2_col1\" class=\"data row2 col1\" >0.070000</td>\n",
       "      <td id=\"T_94444_row2_col2\" class=\"data row2 col2\" >1.340000</td>\n",
       "    </tr>\n",
       "    <tr>\n",
       "      <th id=\"T_94444_level0_row3\" class=\"row_heading level0 row3\" >Banking</th>\n",
       "      <td id=\"T_94444_row3_col0\" class=\"data row3 col0\" >0.040000</td>\n",
       "      <td id=\"T_94444_row3_col1\" class=\"data row3 col1\" >0.030000</td>\n",
       "      <td id=\"T_94444_row3_col2\" class=\"data row3 col2\" >0.110000</td>\n",
       "    </tr>\n",
       "    <tr>\n",
       "      <th id=\"T_94444_level0_row4\" class=\"row_heading level0 row4\" >Banknote</th>\n",
       "      <td id=\"T_94444_row4_col0\" class=\"data row4 col0\" >0.220000</td>\n",
       "      <td id=\"T_94444_row4_col1\" class=\"data row4 col1\" >0.220000</td>\n",
       "      <td id=\"T_94444_row4_col2\" class=\"data row4 col2\" >0.220000</td>\n",
       "    </tr>\n",
       "    <tr>\n",
       "      <th id=\"T_94444_level0_row5\" class=\"row_heading level0 row5\" >Breast Cancer</th>\n",
       "      <td id=\"T_94444_row5_col0\" class=\"data row5 col0\" >0.040000</td>\n",
       "      <td id=\"T_94444_row5_col1\" class=\"data row5 col1\" >0.040000</td>\n",
       "      <td id=\"T_94444_row5_col2\" class=\"data row5 col2\" >0.050000</td>\n",
       "    </tr>\n",
       "    <tr>\n",
       "      <th id=\"T_94444_level0_row6\" class=\"row_heading level0 row6\" >Churn</th>\n",
       "      <td id=\"T_94444_row6_col0\" class=\"data row6 col0\" >0.080000</td>\n",
       "      <td id=\"T_94444_row6_col1\" class=\"data row6 col1\" >0.080000</td>\n",
       "      <td id=\"T_94444_row6_col2\" class=\"data row6 col2\" >0.090000</td>\n",
       "    </tr>\n",
       "    <tr>\n",
       "      <th id=\"T_94444_level0_row7\" class=\"row_heading level0 row7\" >Donor</th>\n",
       "      <td id=\"T_94444_row7_col0\" class=\"data row7 col0\" >0.430000</td>\n",
       "      <td id=\"T_94444_row7_col1\" class=\"data row7 col1\" >0.410000</td>\n",
       "      <td id=\"T_94444_row7_col2\" class=\"data row7 col2\" >0.410000</td>\n",
       "    </tr>\n",
       "    <tr>\n",
       "      <th id=\"T_94444_level0_row8\" class=\"row_heading level0 row8\" >Haberman</th>\n",
       "      <td id=\"T_94444_row8_col0\" class=\"data row8 col0\" >0.060000</td>\n",
       "      <td id=\"T_94444_row8_col1\" class=\"data row8 col1\" >0.060000</td>\n",
       "      <td id=\"T_94444_row8_col2\" class=\"data row8 col2\" >0.060000</td>\n",
       "    </tr>\n",
       "    <tr>\n",
       "      <th id=\"T_94444_level0_row9\" class=\"row_heading level0 row9\" >Hattrick</th>\n",
       "      <td id=\"T_94444_row9_col0\" class=\"data row9 col0\" >0.030000</td>\n",
       "      <td id=\"T_94444_row9_col1\" class=\"data row9 col1\" >0.090000</td>\n",
       "      <td id=\"T_94444_row9_col2\" class=\"data row9 col2\" >0.070000</td>\n",
       "    </tr>\n",
       "    <tr>\n",
       "      <th id=\"T_94444_level0_row10\" class=\"row_heading level0 row10\" >Heart Disease</th>\n",
       "      <td id=\"T_94444_row10_col0\" class=\"data row10 col0\" >0.210000</td>\n",
       "      <td id=\"T_94444_row10_col1\" class=\"data row10 col1\" >0.100000</td>\n",
       "      <td id=\"T_94444_row10_col2\" class=\"data row10 col2\" >0.290000</td>\n",
       "    </tr>\n",
       "    <tr>\n",
       "      <th id=\"T_94444_level0_row11\" class=\"row_heading level0 row11\" >Hr</th>\n",
       "      <td id=\"T_94444_row11_col0\" class=\"data row11 col0\" >0.010000</td>\n",
       "      <td id=\"T_94444_row11_col1\" class=\"data row11 col1\" >0.010000</td>\n",
       "      <td id=\"T_94444_row11_col2\" class=\"data row11 col2\" >0.010000</td>\n",
       "    </tr>\n",
       "    <tr>\n",
       "      <th id=\"T_94444_level0_row12\" class=\"row_heading level0 row12\" >Insurance</th>\n",
       "      <td id=\"T_94444_row12_col0\" class=\"data row12 col0\" >0.000000</td>\n",
       "      <td id=\"T_94444_row12_col1\" class=\"data row12 col1\" >0.010000</td>\n",
       "      <td id=\"T_94444_row12_col2\" class=\"data row12 col2\" >0.010000</td>\n",
       "    </tr>\n",
       "    <tr>\n",
       "      <th id=\"T_94444_level0_row13\" class=\"row_heading level0 row13\" >Iris</th>\n",
       "      <td id=\"T_94444_row13_col0\" class=\"data row13 col0\" >0.270000</td>\n",
       "      <td id=\"T_94444_row13_col1\" class=\"data row13 col1\" >0.270000</td>\n",
       "      <td id=\"T_94444_row13_col2\" class=\"data row13 col2\" >0.270000</td>\n",
       "    </tr>\n",
       "    <tr>\n",
       "      <th id=\"T_94444_level0_row14\" class=\"row_heading level0 row14\" >Loan</th>\n",
       "      <td id=\"T_94444_row14_col0\" class=\"data row14 col0\" >0.000000</td>\n",
       "      <td id=\"T_94444_row14_col1\" class=\"data row14 col1\" >0.020000</td>\n",
       "      <td id=\"T_94444_row14_col2\" class=\"data row14 col2\" >0.020000</td>\n",
       "    </tr>\n",
       "    <tr>\n",
       "      <th id=\"T_94444_level0_row15\" class=\"row_heading level0 row15\" >Pima Indians</th>\n",
       "      <td id=\"T_94444_row15_col0\" class=\"data row15 col0\" >0.100000</td>\n",
       "      <td id=\"T_94444_row15_col1\" class=\"data row15 col1\" >0.100000</td>\n",
       "      <td id=\"T_94444_row15_col2\" class=\"data row15 col2\" >0.110000</td>\n",
       "    </tr>\n",
       "    <tr>\n",
       "      <th id=\"T_94444_level0_row16\" class=\"row_heading level0 row16\" >Seismic</th>\n",
       "      <td id=\"T_94444_row16_col0\" class=\"data row16 col0\" >0.600000</td>\n",
       "      <td id=\"T_94444_row16_col1\" class=\"data row16 col1\" >0.070000</td>\n",
       "      <td id=\"T_94444_row16_col2\" class=\"data row16 col2\" >0.540000</td>\n",
       "    </tr>\n",
       "    <tr>\n",
       "      <th id=\"T_94444_level0_row17\" class=\"row_heading level0 row17\" >Spambase</th>\n",
       "      <td id=\"T_94444_row17_col0\" class=\"data row17 col0\" >0.010000</td>\n",
       "      <td id=\"T_94444_row17_col1\" class=\"data row17 col1\" >0.520000</td>\n",
       "      <td id=\"T_94444_row17_col2\" class=\"data row17 col2\" >1.700000</td>\n",
       "    </tr>\n",
       "    <tr>\n",
       "      <th id=\"T_94444_level0_row18\" class=\"row_heading level0 row18\" >Thera</th>\n",
       "      <td id=\"T_94444_row18_col0\" class=\"data row18 col0\" >0.010000</td>\n",
       "      <td id=\"T_94444_row18_col1\" class=\"data row18 col1\" >0.020000</td>\n",
       "      <td id=\"T_94444_row18_col2\" class=\"data row18 col2\" >0.020000</td>\n",
       "    </tr>\n",
       "    <tr>\n",
       "      <th id=\"T_94444_level0_row19\" class=\"row_heading level0 row19\" >Titanic</th>\n",
       "      <td id=\"T_94444_row19_col0\" class=\"data row19 col0\" >0.210000</td>\n",
       "      <td id=\"T_94444_row19_col1\" class=\"data row19 col1\" >0.150000</td>\n",
       "      <td id=\"T_94444_row19_col2\" class=\"data row19 col2\" >0.220000</td>\n",
       "    </tr>\n",
       "    <tr>\n",
       "      <th id=\"T_94444_level0_row20\" class=\"row_heading level0 row20\" >Average</th>\n",
       "      <td id=\"T_94444_row20_col0\" class=\"data row20 col0\" >0.180000</td>\n",
       "      <td id=\"T_94444_row20_col1\" class=\"data row20 col1\" >0.120000</td>\n",
       "      <td id=\"T_94444_row20_col2\" class=\"data row20 col2\" >0.280000</td>\n",
       "    </tr>\n",
       "    <tr>\n",
       "      <th id=\"T_94444_level0_row21\" class=\"row_heading level0 row21\" >Standard Deviation</th>\n",
       "      <td id=\"T_94444_row21_col0\" class=\"data row21 col0\" >0.260000</td>\n",
       "      <td id=\"T_94444_row21_col1\" class=\"data row21 col1\" >0.130000</td>\n",
       "      <td id=\"T_94444_row21_col2\" class=\"data row21 col2\" >0.440000</td>\n",
       "    </tr>\n",
       "  </tbody>\n",
       "</table>\n"
      ],
      "text/plain": [
       "<pandas.io.formats.style.Styler at 0x7f478b59d590>"
      ]
     },
     "execution_count": 357,
     "metadata": {},
     "output_type": "execute_result"
    }
   ],
   "source": [
    "base_rri.iloc[:, 3:6].round(2).style.highlight_max(axis=1, color='lightgreen')"
   ]
  },
  {
   "cell_type": "code",
   "execution_count": 42,
   "id": "d5eed447",
   "metadata": {},
   "outputs": [
    {
     "name": "stdout",
     "output_type": "stream",
     "text": [
      "\\begin{tabular}{lrrrrrr}\n",
      "\\hline\n",
      " Adult              & 0.1  & 0.03 & 0.09 & 0.06 & 0.06 & 0.05 \\\\\n",
      " Attrition          & 0.06 & 0.06 & 0.07 & 0.06 & 0.07 & 0.07 \\\\\n",
      " Audit              & 0.12 & 0.04 & 0.22 & 1.08 & 0.07 & 1.34 \\\\\n",
      " Banking            & 0.03 & 0.02 & 0.04 & 0.04 & 0.03 & 0.11 \\\\\n",
      " Banknote           & 0.29 & 0.29 & 0.29 & 0.22 & 0.22 & 0.22 \\\\\n",
      " Breast Cancer      & 0.03 & 0.03 & 0.08 & 0.04 & 0.04 & 0.05 \\\\\n",
      " Churn              & 0.06 & 0.05 & 0.06 & 0.08 & 0.08 & 0.09 \\\\\n",
      " Donor              & 0.34 & 0.39 & 0.37 & 0.43 & 0.41 & 0.41 \\\\\n",
      " Haberman           & 0.07 & 0.07 & 0.07 & 0.06 & 0.06 & 0.06 \\\\\n",
      " Hattrick           & 0.18 & 0.18 & 0.29 & 0.03 & 0.09 & 0.07 \\\\\n",
      " Heart Disease      & 0.13 & 0.09 & 0.16 & 0.21 & 0.1  & 0.29 \\\\\n",
      " Hr                 & 0.01 & 0.01 & 0.01 & 0.01 & 0.01 & 0.01 \\\\\n",
      " Insurance          & 0    & 0    & 0    & 0    & 0.01 & 0.01 \\\\\n",
      " Iris               & 0.25 & 0.25 & 0.25 & 0.27 & 0.27 & 0.27 \\\\\n",
      " Loan               & 0.01 & 0.01 & 0.02 & 0    & 0.02 & 0.02 \\\\\n",
      " Pima Indians       & 0.1  & 0.09 & 0.11 & 0.1  & 0.1  & 0.11 \\\\\n",
      " Seismic            & 0.03 & 0.01 & 0.04 & 0.6  & 0.07 & 0.54 \\\\\n",
      " Spambase           & 0.3  & 0.06 & 0.29 & 0.01 & 0.52 & 1.7  \\\\\n",
      " Thera              & 0.02 & 0.01 & 0.02 & 0.01 & 0.02 & 0.02 \\\\\n",
      " Titanic            & 0.15 & 0.11 & 0.16 & 0.21 & 0.15 & 0.22 \\\\\n",
      " Average            & 0.11 & 0.09 & 0.13 & 0.18 & 0.12 & 0.28 \\\\\n",
      " Standard Deviation & 0.1  & 0.1  & 0.11 & 0.26 & 0.13 & 0.44 \\\\\n",
      "\\hline\n",
      "\\end{tabular}\n"
     ]
    }
   ],
   "source": [
    "print(tabulate(base_rri.round(2), tablefmt=\"latex_raw\"))"
   ]
  },
  {
   "cell_type": "code",
   "execution_count": 3,
   "id": "41f5b4f0",
   "metadata": {},
   "outputs": [],
   "source": [
    "robustness = pickle.load( open( \"{}/robustness_measure_v11.p\".format(BASE_PATH), \"rb\" ) )"
   ]
  },
  {
   "cell_type": "code",
   "execution_count": 4,
   "id": "50205e82",
   "metadata": {},
   "outputs": [
    {
     "data": {
      "text/plain": [
       "10"
      ]
     },
     "execution_count": 4,
     "metadata": {},
     "output_type": "execute_result"
    }
   ],
   "source": [
    "len(robustness['lreg']['lpi']['breast_cancer']['insertion'][0])"
   ]
  },
  {
   "cell_type": "code",
   "execution_count": 5,
   "id": "940181e1",
   "metadata": {},
   "outputs": [],
   "source": [
    "def process_ax(ax, label_size=14):\n",
    "    for axis in ['bottom', 'left']:\n",
    "        ax.spines[axis].set_linewidth(2.5)\n",
    "        ax.spines[axis].set_color('0.2')\n",
    "\n",
    "    ax.spines['top'].set_visible(False)\n",
    "    ax.spines['right'].set_visible(False)\n",
    "\n",
    "    ax.tick_params(width = 2.5, color = '0.2')\n",
    "\n",
    "    ax.set_xlabel(ax.get_xlabel(), fontsize = label_size, weight = 'bold', color = '0.2')\n",
    "    ax.set_ylabel(ax.get_ylabel(), fontsize = label_size, weight = 'bold', color = '0.2')\n",
    "\n",
    "    return ax"
   ]
  },
  {
   "cell_type": "code",
   "execution_count": 8,
   "id": "2c0b7718",
   "metadata": {},
   "outputs": [
    {
     "name": "stderr",
     "output_type": "stream",
     "text": [
      "The PostScript backend does not support transparency; partially transparent artists will be rendered opaque.\n",
      "The PostScript backend does not support transparency; partially transparent artists will be rendered opaque.\n"
     ]
    },
    {
     "data": {
      "image/png": "[encoded data removed]",
      "text/plain": [
       "<Figure size 864x360 with 2 Axes>"
      ]
     },
     "metadata": {
      "needs_background": "light"
     },
     "output_type": "display_data"
    }
   ],
   "source": [
    "cutoffs = np.linspace(0.05, 0.45, 10)\n",
    "r_types = ['deletion', 'insertion']\n",
    "fig, ax = plt.subplots(1, 2, figsize=(12, 5), sharey=True)\n",
    "d_name = 'breast_cancer'\n",
    "m_name = 'lreg'\n",
    "exp_colors = ['#5F8BE9', '#C4A705', '#E97439', '#65ED99']\n",
    "for i in range(len(r_types)):\n",
    "    for j in range(len(e_names)):\n",
    "        _temp_res = np.array(robustness[m_name][e_names[j]][d_name][r_types[i]])\n",
    "        _avg_res = np.mean(_temp_res, axis = 0)\n",
    "        ax[i].plot(cutoffs, _avg_res, label=e_names_alt[j], color=exp_colors[j], linewidth=2)\n",
    "        \n",
    "        if r_types[i] == 'deletion':\n",
    "            ax[i].set_xlabel('% Important Features', size=8)\n",
    "        else: \n",
    "            ax[i].set_xlabel('% Unimportant Features', size=10)\n",
    "        ax[i].set_ylabel(r'$\\Delta$ Probability Score', size=10)\n",
    "        ax[i].tick_params(axis='both', which='major', labelsize=12)\n",
    "        ax[i] = process_ax(ax[i])\n",
    "ax[1].legend()\n",
    "plt.savefig('./robust_{}_{}.eps'.format(d_name, m_name))\n",
    "plt.show()"
   ]
  },
  {
   "cell_type": "code",
   "execution_count": 35,
   "id": "17a2c661",
   "metadata": {},
   "outputs": [],
   "source": [
    "cutoffs = np.linspace(0.05, 0.45, 10)\n",
    "robust_type = 'insertion'\n",
    "\n",
    "def get_auc(model_name, robust_type):\n",
    "    auc = {}    \n",
    "    for i in range(len(robust_datasets)):\n",
    "        auc[robust_datasets[i]] = {}\n",
    "        temp_res = []\n",
    "        data_name = robust_datasets[i]\n",
    "\n",
    "        for j in range(len(e_names)):   \n",
    "            auc[robust_datasets[i]][e_names[j]]  = {}\n",
    "            res_ins = robustness[model_name][e_names[j]][robust_datasets[i]][robust_type]\n",
    "            temp = np.array(res_ins).mean(axis=1)\n",
    "            auc_ = 0\n",
    "            for k in range(1, len(cutoffs) - 1):\n",
    "                x = cutoffs[k] - cutoffs[k - 1]\n",
    "                y = temp[k] + temp[k-1]\n",
    "                auc_ += y / ( 2 * x)\n",
    "            auc[robust_datasets[i]][e_names[j]] = auc_ \n",
    "            \n",
    "    return auc"
   ]
  },
  {
   "cell_type": "code",
   "execution_count": 36,
   "id": "a6aabdb2",
   "metadata": {},
   "outputs": [],
   "source": [
    "auc_insertion_lreg = pd.DataFrame(get_auc('lreg', robust_type))\n",
    "auc_insertion_gbayes = pd.DataFrame(get_auc('gbayes', robust_type))"
   ]
  },
  {
   "cell_type": "code",
   "execution_count": 37,
   "id": "fe7cf3c7",
   "metadata": {},
   "outputs": [],
   "source": [
    "insertion = auc_insertion_lreg.append(auc_insertion_gbayes).T.round(2)"
   ]
  },
  {
   "cell_type": "code",
   "execution_count": 38,
   "id": "3fc196a6",
   "metadata": {},
   "outputs": [],
   "source": [
    "insertion.index = robust_dataset_names\n",
    "insertion = insertion.sort_index()\n",
    "insertion.loc['Average'] = insertion.mean().round(2)\n",
    "insertion.loc['Standard Deviation'] = insertion.std().round(2)"
   ]
  },
  {
   "cell_type": "code",
   "execution_count": 42,
   "id": "c2c032d4",
   "metadata": {},
   "outputs": [
    {
     "data": {
      "text/html": [
       "<style type=\"text/css\">\n",
       "#T_c7172_row0_col1, #T_c7172_row1_col0, #T_c7172_row1_col1, #T_c7172_row1_col2, #T_c7172_row2_col0, #T_c7172_row2_col1, #T_c7172_row2_col2, #T_c7172_row3_col1, #T_c7172_row4_col1, #T_c7172_row5_col0, #T_c7172_row6_col1, #T_c7172_row7_col0, #T_c7172_row7_col1, #T_c7172_row7_col2, #T_c7172_row8_col0, #T_c7172_row8_col2, #T_c7172_row9_col1, #T_c7172_row10_col2, #T_c7172_row11_col0, #T_c7172_row11_col1, #T_c7172_row11_col2, #T_c7172_row12_col0, #T_c7172_row12_col1, #T_c7172_row12_col2, #T_c7172_row13_col0, #T_c7172_row13_col1, #T_c7172_row13_col2, #T_c7172_row14_col0, #T_c7172_row14_col1, #T_c7172_row14_col2, #T_c7172_row15_col1, #T_c7172_row16_col1, #T_c7172_row17_col2, #T_c7172_row18_col0, #T_c7172_row18_col1, #T_c7172_row18_col2, #T_c7172_row19_col1, #T_c7172_row20_col2, #T_c7172_row21_col2 {\n",
       "  background-color: yellow;\n",
       "}\n",
       "</style>\n",
       "<table id=\"T_c7172_\">\n",
       "  <thead>\n",
       "    <tr>\n",
       "      <th class=\"blank level0\" >&nbsp;</th>\n",
       "      <th class=\"col_heading level0 col0\" >lime</th>\n",
       "      <th class=\"col_heading level0 col1\" >shap</th>\n",
       "      <th class=\"col_heading level0 col2\" >lpi</th>\n",
       "    </tr>\n",
       "  </thead>\n",
       "  <tbody>\n",
       "    <tr>\n",
       "      <th id=\"T_c7172_level0_row0\" class=\"row_heading level0 row0\" >Adult</th>\n",
       "      <td id=\"T_c7172_row0_col0\" class=\"data row0 col0\" >30.910000</td>\n",
       "      <td id=\"T_c7172_row0_col1\" class=\"data row0 col1\" >22.120000</td>\n",
       "      <td id=\"T_c7172_row0_col2\" class=\"data row0 col2\" >27.220000</td>\n",
       "    </tr>\n",
       "    <tr>\n",
       "      <th id=\"T_c7172_level0_row1\" class=\"row_heading level0 row1\" >Attrition</th>\n",
       "      <td id=\"T_c7172_row1_col0\" class=\"data row1 col0\" >0.000000</td>\n",
       "      <td id=\"T_c7172_row1_col1\" class=\"data row1 col1\" >0.000000</td>\n",
       "      <td id=\"T_c7172_row1_col2\" class=\"data row1 col2\" >0.000000</td>\n",
       "    </tr>\n",
       "    <tr>\n",
       "      <th id=\"T_c7172_level0_row2\" class=\"row_heading level0 row2\" >Audit</th>\n",
       "      <td id=\"T_c7172_row2_col0\" class=\"data row2 col0\" >123.750000</td>\n",
       "      <td id=\"T_c7172_row2_col1\" class=\"data row2 col1\" >123.750000</td>\n",
       "      <td id=\"T_c7172_row2_col2\" class=\"data row2 col2\" >123.750000</td>\n",
       "    </tr>\n",
       "    <tr>\n",
       "      <th id=\"T_c7172_level0_row3\" class=\"row_heading level0 row3\" >Banking</th>\n",
       "      <td id=\"T_c7172_row3_col0\" class=\"data row3 col0\" >6.820000</td>\n",
       "      <td id=\"T_c7172_row3_col1\" class=\"data row3 col1\" >3.840000</td>\n",
       "      <td id=\"T_c7172_row3_col2\" class=\"data row3 col2\" >10.290000</td>\n",
       "    </tr>\n",
       "    <tr>\n",
       "      <th id=\"T_c7172_level0_row4\" class=\"row_heading level0 row4\" >Banknote</th>\n",
       "      <td id=\"T_c7172_row4_col0\" class=\"data row4 col0\" >16.630000</td>\n",
       "      <td id=\"T_c7172_row4_col1\" class=\"data row4 col1\" >15.800000</td>\n",
       "      <td id=\"T_c7172_row4_col2\" class=\"data row4 col2\" >18.120000</td>\n",
       "    </tr>\n",
       "    <tr>\n",
       "      <th id=\"T_c7172_level0_row5\" class=\"row_heading level0 row5\" >Breast Cancer</th>\n",
       "      <td id=\"T_c7172_row5_col0\" class=\"data row5 col0\" >0.000000</td>\n",
       "      <td id=\"T_c7172_row5_col1\" class=\"data row5 col1\" >0.050000</td>\n",
       "      <td id=\"T_c7172_row5_col2\" class=\"data row5 col2\" >1.690000</td>\n",
       "    </tr>\n",
       "    <tr>\n",
       "      <th id=\"T_c7172_level0_row6\" class=\"row_heading level0 row6\" >Churn</th>\n",
       "      <td id=\"T_c7172_row6_col0\" class=\"data row6 col0\" >14.500000</td>\n",
       "      <td id=\"T_c7172_row6_col1\" class=\"data row6 col1\" >13.430000</td>\n",
       "      <td id=\"T_c7172_row6_col2\" class=\"data row6 col2\" >21.610000</td>\n",
       "    </tr>\n",
       "    <tr>\n",
       "      <th id=\"T_c7172_level0_row7\" class=\"row_heading level0 row7\" >Donor</th>\n",
       "      <td id=\"T_c7172_row7_col0\" class=\"data row7 col0\" >0.000000</td>\n",
       "      <td id=\"T_c7172_row7_col1\" class=\"data row7 col1\" >0.000000</td>\n",
       "      <td id=\"T_c7172_row7_col2\" class=\"data row7 col2\" >0.000000</td>\n",
       "    </tr>\n",
       "    <tr>\n",
       "      <th id=\"T_c7172_level0_row8\" class=\"row_heading level0 row8\" >Haberman</th>\n",
       "      <td id=\"T_c7172_row8_col0\" class=\"data row8 col0\" >4.030000</td>\n",
       "      <td id=\"T_c7172_row8_col1\" class=\"data row8 col1\" >4.690000</td>\n",
       "      <td id=\"T_c7172_row8_col2\" class=\"data row8 col2\" >4.030000</td>\n",
       "    </tr>\n",
       "    <tr>\n",
       "      <th id=\"T_c7172_level0_row9\" class=\"row_heading level0 row9\" >Hattrick</th>\n",
       "      <td id=\"T_c7172_row9_col0\" class=\"data row9 col0\" >4.830000</td>\n",
       "      <td id=\"T_c7172_row9_col1\" class=\"data row9 col1\" >0.770000</td>\n",
       "      <td id=\"T_c7172_row9_col2\" class=\"data row9 col2\" >15.050000</td>\n",
       "    </tr>\n",
       "    <tr>\n",
       "      <th id=\"T_c7172_level0_row10\" class=\"row_heading level0 row10\" >Heart Disease</th>\n",
       "      <td id=\"T_c7172_row10_col0\" class=\"data row10 col0\" >41.700000</td>\n",
       "      <td id=\"T_c7172_row10_col1\" class=\"data row10 col1\" >41.060000</td>\n",
       "      <td id=\"T_c7172_row10_col2\" class=\"data row10 col2\" >40.880000</td>\n",
       "    </tr>\n",
       "    <tr>\n",
       "      <th id=\"T_c7172_level0_row11\" class=\"row_heading level0 row11\" >Hr</th>\n",
       "      <td id=\"T_c7172_row11_col0\" class=\"data row11 col0\" >0.010000</td>\n",
       "      <td id=\"T_c7172_row11_col1\" class=\"data row11 col1\" >0.010000</td>\n",
       "      <td id=\"T_c7172_row11_col2\" class=\"data row11 col2\" >0.010000</td>\n",
       "    </tr>\n",
       "    <tr>\n",
       "      <th id=\"T_c7172_level0_row12\" class=\"row_heading level0 row12\" >Insurance</th>\n",
       "      <td id=\"T_c7172_row12_col0\" class=\"data row12 col0\" >0.000000</td>\n",
       "      <td id=\"T_c7172_row12_col1\" class=\"data row12 col1\" >0.000000</td>\n",
       "      <td id=\"T_c7172_row12_col2\" class=\"data row12 col2\" >0.000000</td>\n",
       "    </tr>\n",
       "    <tr>\n",
       "      <th id=\"T_c7172_level0_row13\" class=\"row_heading level0 row13\" >Iris</th>\n",
       "      <td id=\"T_c7172_row13_col0\" class=\"data row13 col0\" >11.260000</td>\n",
       "      <td id=\"T_c7172_row13_col1\" class=\"data row13 col1\" >11.260000</td>\n",
       "      <td id=\"T_c7172_row13_col2\" class=\"data row13 col2\" >11.260000</td>\n",
       "    </tr>\n",
       "    <tr>\n",
       "      <th id=\"T_c7172_level0_row14\" class=\"row_heading level0 row14\" >Loan</th>\n",
       "      <td id=\"T_c7172_row14_col0\" class=\"data row14 col0\" >0.000000</td>\n",
       "      <td id=\"T_c7172_row14_col1\" class=\"data row14 col1\" >0.000000</td>\n",
       "      <td id=\"T_c7172_row14_col2\" class=\"data row14 col2\" >0.000000</td>\n",
       "    </tr>\n",
       "    <tr>\n",
       "      <th id=\"T_c7172_level0_row15\" class=\"row_heading level0 row15\" >Pima Indians</th>\n",
       "      <td id=\"T_c7172_row15_col0\" class=\"data row15 col0\" >23.760000</td>\n",
       "      <td id=\"T_c7172_row15_col1\" class=\"data row15 col1\" >19.290000</td>\n",
       "      <td id=\"T_c7172_row15_col2\" class=\"data row15 col2\" >24.580000</td>\n",
       "    </tr>\n",
       "    <tr>\n",
       "      <th id=\"T_c7172_level0_row16\" class=\"row_heading level0 row16\" >Seismic</th>\n",
       "      <td id=\"T_c7172_row16_col0\" class=\"data row16 col0\" >6.590000</td>\n",
       "      <td id=\"T_c7172_row16_col1\" class=\"data row16 col1\" >4.790000</td>\n",
       "      <td id=\"T_c7172_row16_col2\" class=\"data row16 col2\" >26.930000</td>\n",
       "    </tr>\n",
       "    <tr>\n",
       "      <th id=\"T_c7172_level0_row17\" class=\"row_heading level0 row17\" >Spambase</th>\n",
       "      <td id=\"T_c7172_row17_col0\" class=\"data row17 col0\" >146.250000</td>\n",
       "      <td id=\"T_c7172_row17_col1\" class=\"data row17 col1\" >146.250000</td>\n",
       "      <td id=\"T_c7172_row17_col2\" class=\"data row17 col2\" >14.630000</td>\n",
       "    </tr>\n",
       "    <tr>\n",
       "      <th id=\"T_c7172_level0_row18\" class=\"row_heading level0 row18\" >Thera</th>\n",
       "      <td id=\"T_c7172_row18_col0\" class=\"data row18 col0\" >0.000000</td>\n",
       "      <td id=\"T_c7172_row18_col1\" class=\"data row18 col1\" >0.000000</td>\n",
       "      <td id=\"T_c7172_row18_col2\" class=\"data row18 col2\" >0.000000</td>\n",
       "    </tr>\n",
       "    <tr>\n",
       "      <th id=\"T_c7172_level0_row19\" class=\"row_heading level0 row19\" >Titanic</th>\n",
       "      <td id=\"T_c7172_row19_col0\" class=\"data row19 col0\" >31.680000</td>\n",
       "      <td id=\"T_c7172_row19_col1\" class=\"data row19 col1\" >21.150000</td>\n",
       "      <td id=\"T_c7172_row19_col2\" class=\"data row19 col2\" >40.510000</td>\n",
       "    </tr>\n",
       "    <tr>\n",
       "      <th id=\"T_c7172_level0_row20\" class=\"row_heading level0 row20\" >Average</th>\n",
       "      <td id=\"T_c7172_row20_col0\" class=\"data row20 col0\" >23.140000</td>\n",
       "      <td id=\"T_c7172_row20_col1\" class=\"data row20 col1\" >21.410000</td>\n",
       "      <td id=\"T_c7172_row20_col2\" class=\"data row20 col2\" >19.030000</td>\n",
       "    </tr>\n",
       "    <tr>\n",
       "      <th id=\"T_c7172_level0_row21\" class=\"row_heading level0 row21\" >Standard Deviation</th>\n",
       "      <td id=\"T_c7172_row21_col0\" class=\"data row21 col0\" >39.370000</td>\n",
       "      <td id=\"T_c7172_row21_col1\" class=\"data row21 col1\" >39.460000</td>\n",
       "      <td id=\"T_c7172_row21_col2\" class=\"data row21 col2\" >27.330000</td>\n",
       "    </tr>\n",
       "  </tbody>\n",
       "</table>\n"
      ],
      "text/plain": [
       "<pandas.io.formats.style.Styler at 0x7f9712cbc490>"
      ]
     },
     "execution_count": 42,
     "metadata": {},
     "output_type": "execute_result"
    }
   ],
   "source": [
    "insertion.iloc[:,3:6].round(2).style.highlight_min(axis=1)"
   ]
  },
  {
   "cell_type": "code",
   "execution_count": 23,
   "id": "b78ac2bc",
   "metadata": {},
   "outputs": [
    {
     "name": "stdout",
     "output_type": "stream",
     "text": [
      "\\begin{tabular}{lrrrrrr}\n",
      "\\hline\n",
      " Adult              & 29.74 & 38.6  & 41.8  &  49.72 &  54.22 &  36.09 \\\\\n",
      " Attrition          & 67.04 & 66.76 & 67.15 &  67.5  &  67.5  &  67.5  \\\\\n",
      " Audit              & 34.63 & 33.4  & 48.94 & 106.88 & 123.75 & 123.75 \\\\\n",
      " Banking            &  9.2  &  9.94 & 11.79 &  27.32 &  28.45 &  20.67 \\\\\n",
      " Banknote           & 72.04 & 72.51 & 77.63 &  25.74 &  26.49 &  28.04 \\\\\n",
      " Breast Cancer      & 23.76 & 13.73 & 73.34 &   4.63 &   7.46 &   4.38 \\\\\n",
      " Churn              & 20.59 & 21.72 & 20.28 &  27.11 &  27.88 &  20.69 \\\\\n",
      " Donor              & 67.27 & 67.29 & 67.28 &  67.5  &  67.5  &  67.5  \\\\\n",
      " Haberman           &  7.6  &  5.71 &  7.54 &   2.97 &   2.29 &   2.97 \\\\\n",
      " Hattrick           & 63.13 & 61.83 & 68.75 &  27.38 &  39.85 &  19.9  \\\\\n",
      " Heart Disease      & 28.53 & 45.18 & 34.19 &  54.61 &  68.31 &  59.57 \\\\\n",
      " Hr                 & 39.41 & 31.51 & 27.84 &  67.5  &  67.5  &  67.5  \\\\\n",
      " Insurance          &  1.22 &  1.54 &  0.96 &   0    &   0    &   0    \\\\\n",
      " Iris               & 17.17 & 16.57 & 18.63 &  45    &  45    &  45    \\\\\n",
      " Loan               & 44.89 & 44.86 & 44.91 &  45    &  45    &  45    \\\\\n",
      " Pima Indians       & 43.35 & 42.55 & 42.47 &  47.68 &  53.45 &  47.21 \\\\\n",
      " Seismic            &  8.9  &  9.17 &  8.42 &  86.08 &  90.41 &  65.1  \\\\\n",
      " Spambase           & 50.55 & 30.82 & 55.92 &  48.38 & 145.13 & 146.25 \\\\\n",
      " Thera              & 44.88 & 44.84 & 44.9  &  45    &  45    &  45    \\\\\n",
      " Titanic            & 56.33 & 57.28 & 50.44 &  52.03 &  64.83 &  47.05 \\\\\n",
      " Average            & 36.51 & 35.79 & 40.66 &  44.9  &  53.5  &  47.96 \\\\\n",
      " Standard Deviation & 21.36 & 21.57 & 23.16 &  26.41 &  35.81 &  36.09 \\\\\n",
      "\\hline\n",
      "\\end{tabular}\n"
     ]
    }
   ],
   "source": [
    "print(tabulate(insertion, tablefmt=\"latex_raw\"))"
   ]
  },
  {
   "cell_type": "code",
   "execution_count": null,
   "id": "8d4bcb7f",
   "metadata": {},
   "outputs": [],
   "source": []
  }
 ],
 "metadata": {
  "kernelspec": {
   "display_name": "py39",
   "language": "python",
   "name": "py39"
  },
  "language_info": {
   "codemirror_mode": {
    "name": "ipython",
    "version": 3
   },
   "file_extension": ".py",
   "mimetype": "text/x-python",
   "name": "python",
   "nbconvert_exporter": "python",
   "pygments_lexer": "ipython3",
   "version": "3.9.13"
  }
 },
 "nbformat": 4,
 "nbformat_minor": 5
}
